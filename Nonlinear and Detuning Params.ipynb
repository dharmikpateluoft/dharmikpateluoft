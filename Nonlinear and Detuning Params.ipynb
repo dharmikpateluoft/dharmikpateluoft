{
 "cells": [
  {
   "cell_type": "code",
   "execution_count": 2,
   "id": "4afade1a",
   "metadata": {},
   "outputs": [
    {
     "data": {
      "text/plain": [
       "calculate_parameters (generic function with 1 method)"
      ]
     },
     "execution_count": 2,
     "metadata": {},
     "output_type": "execute_result"
    }
   ],
   "source": [
    "#nonlinear_and_detuning_parameter.jl\n",
    "\n",
    "using SpecialFunctions  # For the erf function\n",
    "\n",
    "function calculate_parameters(λ1, λ2, λS, Q, τ1, τ2, L, vg, η, P1_peak, P2_peak, γ_nl, R, neff, tbar_min, tbar_max, dtbar)\n",
    "    c = 3.0e8  # Speed of light in m/s\n",
    "\n",
    "    omega1 = 2 * π * c / λ1\n",
    "    omega2 = 2 * π * c / λ2\n",
    "    omegaS = 2 * π * c / λS\n",
    "\n",
    "    GammaS = omegaS / (2 * Q)\n",
    "    GammaP1 = omega1 / (2 * Q)\n",
    "    GammaP2 = omega2 / (2 * Q)\n",
    "    GammaP = (GammaP1 + GammaP2) * 0.5\n",
    "\n",
    "    beta1 = GammaP1 * τ1 / sqrt(8 * log(2))\n",
    "    beta2 = GammaP2 * τ2 / sqrt(8 * log(2))\n",
    "\n",
    "    z0 = -η^2 * sqrt(P1_peak * P2_peak) * vg^3 * τ1 * τ2 * γ_nl / (4 * log(2) * L * 2 * π * R)\n",
    "\n",
    "    dl = 0.05e-9\n",
    "    kS_max = 2 * π * neff / (λS - dl)\n",
    "    kS_min = 2 * π * neff / (λS + dl)\n",
    "    dk = 2 * π / L\n",
    "    k1 = kS_min:dk:kS_max\n",
    "    k2 = k1\n",
    "    KS = 2 * π * neff / λS\n",
    "\n",
    "    zeta_x = zeros(ComplexF64, length(k1), length(k2))\n",
    "\n",
    "    for (idx1, k1_val) in enumerate(k1)\n",
    "        x1 = vg * (k1_val - KS) / GammaS\n",
    "\n",
    "        for (idx2, k2_val) in enumerate(k2)\n",
    "            x2 = vg * (k2_val - KS) / GammaS\n",
    "            zeta_x[idx1, idx2] = 1 / (1im * x1 + 1) * 1 / (1im * x2 + 1)\n",
    "        end\n",
    "    end\n",
    "\n",
    "    tbar = tbar_min:dtbar:tbar_max\n",
    "\n",
    "    zeta1_t = zeros(ComplexF64, length(tbar))\n",
    "    zeta2_t = zeros(ComplexF64, length(tbar))\n",
    "\n",
    "    for (idx1, tbar_val) in enumerate(tbar)\n",
    "        a1 = 1 / (2 * beta1)\n",
    "        println(typeof(tbar_val))\n",
    "        println(typeof(a1))\n",
    "        println(typeof(beta1))\n",
    "        z1 = beta1 - a1 * tbar_val\n",
    "        zeta1_t[idx1] = exp(-(a1 * tbar_val)^2) * exp(z1^2) * (1 - erf(z1))\n",
    "\n",
    "        a2 = 1 / (2 * beta2)\n",
    "        println(typeof(tbar_val))\n",
    "        println(typeof(a2))\n",
    "        println(typeof(beta2))\n",
    "        z2 = beta2 - a2 * tbar_val\n",
    "        zeta2_t[idx1] = exp(-(a2 * tbar_val)^2) * exp(z2^2) * (1 - erf(z2))\n",
    "    end\n",
    "\n",
    "    zeta = zeros(ComplexF64, length(k1), length(k2), length(tbar))\n",
    "\n",
    "    for (idx1, tbar_val) in enumerate(tbar)\n",
    "        zeta[:, :, idx1] = z0 * zeta_x * zeta1_t[idx1] * zeta2_t[idx1]\n",
    "    end\n",
    "\n",
    "    Delta = 1 * diagm(vg * (k1 - KS))\n",
    "    \n",
    "    T = L / vg + Q / omegaS\n",
    "\n",
    "    return zeta, Delta, T, tbar\n",
    "end\n"
   ]
  },
  {
   "cell_type": "code",
   "execution_count": null,
   "id": "38ee544d",
   "metadata": {},
   "outputs": [],
   "source": []
  }
 ],
 "metadata": {
  "kernelspec": {
   "display_name": "Julia 1.9.1",
   "language": "julia",
   "name": "julia-1.9"
  },
  "language_info": {
   "file_extension": ".jl",
   "mimetype": "application/julia",
   "name": "julia",
   "version": "1.9.1"
  }
 },
 "nbformat": 4,
 "nbformat_minor": 5
}
